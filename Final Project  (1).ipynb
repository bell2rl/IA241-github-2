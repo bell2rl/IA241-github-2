{
 "cells": [
  {
   "cell_type": "markdown",
   "id": "d1ac6f89",
   "metadata": {},
   "source": [
    "# A Final Analysis of Covid-19 Data from Countries Across the World"
   ]
  },
  {
   "cell_type": "markdown",
   "id": "32f81d01",
   "metadata": {},
   "source": [
    "These calaculations were used to create a set of data visulaizations from data collected by the European Center for Disease Control. It is aggregated by a team of epidimilogists working to collect information from govenrment sources, public health institutes, and other organizations to try and find a accurate number for the total cases and deaths across the globe, then sorted by things like country, month and continent."
   ]
  },
  {
   "cell_type": "code",
   "execution_count": 2,
   "id": "cdc0dfd4",
   "metadata": {},
   "outputs": [],
   "source": [
    "%matplotlib inline\n",
    "import pandas "
   ]
  },
  {
   "cell_type": "markdown",
   "id": "81906867",
   "metadata": {},
   "source": [
    "COVID-19 is a disease that appeared early in the year 2020, and is spread through touch. It infected millions of people around the globe, caused major supply chains to shutdown and forced much of the Earth's population into isolation. "
   ]
  },
  {
   "cell_type": "markdown",
   "id": "15d89ba3",
   "metadata": {},
   "source": []
  },
  {
   "cell_type": "markdown",
   "id": "69827c0a",
   "metadata": {},
   "source": [
    "I imported the data that we were given into a data frame so I could more easily manipulate it. "
   ]
  },
  {
   "cell_type": "code",
   "execution_count": 3,
   "id": "8c60ef27",
   "metadata": {},
   "outputs": [
    {
     "data": {
      "text/html": [
       "<div>\n",
       "<style scoped>\n",
       "    .dataframe tbody tr th:only-of-type {\n",
       "        vertical-align: middle;\n",
       "    }\n",
       "\n",
       "    .dataframe tbody tr th {\n",
       "        vertical-align: top;\n",
       "    }\n",
       "\n",
       "    .dataframe thead th {\n",
       "        text-align: right;\n",
       "    }\n",
       "</style>\n",
       "<table border=\"1\" class=\"dataframe\">\n",
       "  <thead>\n",
       "    <tr style=\"text-align: right;\">\n",
       "      <th></th>\n",
       "      <th>dateRep</th>\n",
       "      <th>day</th>\n",
       "      <th>month</th>\n",
       "      <th>year</th>\n",
       "      <th>cases</th>\n",
       "      <th>deaths</th>\n",
       "      <th>countriesAndTerritories</th>\n",
       "      <th>geoId</th>\n",
       "      <th>countryterritoryCode</th>\n",
       "      <th>popData2019</th>\n",
       "      <th>continentExp</th>\n",
       "      <th>Cumulative_number_for_14_days_of_COVID-19_cases_per_100000</th>\n",
       "    </tr>\n",
       "  </thead>\n",
       "  <tbody>\n",
       "    <tr>\n",
       "      <th>0</th>\n",
       "      <td>14/12/2020</td>\n",
       "      <td>14</td>\n",
       "      <td>12</td>\n",
       "      <td>2020</td>\n",
       "      <td>746</td>\n",
       "      <td>6</td>\n",
       "      <td>Afghanistan</td>\n",
       "      <td>AF</td>\n",
       "      <td>AFG</td>\n",
       "      <td>3.804176e+07</td>\n",
       "      <td>Asia</td>\n",
       "      <td>9.013779</td>\n",
       "    </tr>\n",
       "    <tr>\n",
       "      <th>1</th>\n",
       "      <td>13/12/2020</td>\n",
       "      <td>13</td>\n",
       "      <td>12</td>\n",
       "      <td>2020</td>\n",
       "      <td>298</td>\n",
       "      <td>9</td>\n",
       "      <td>Afghanistan</td>\n",
       "      <td>AF</td>\n",
       "      <td>AFG</td>\n",
       "      <td>3.804176e+07</td>\n",
       "      <td>Asia</td>\n",
       "      <td>7.052776</td>\n",
       "    </tr>\n",
       "    <tr>\n",
       "      <th>2</th>\n",
       "      <td>2020-12-12 00:00:00</td>\n",
       "      <td>12</td>\n",
       "      <td>12</td>\n",
       "      <td>2020</td>\n",
       "      <td>113</td>\n",
       "      <td>11</td>\n",
       "      <td>Afghanistan</td>\n",
       "      <td>AF</td>\n",
       "      <td>AFG</td>\n",
       "      <td>3.804176e+07</td>\n",
       "      <td>Asia</td>\n",
       "      <td>6.868768</td>\n",
       "    </tr>\n",
       "    <tr>\n",
       "      <th>3</th>\n",
       "      <td>2020-11-12 00:00:00</td>\n",
       "      <td>11</td>\n",
       "      <td>12</td>\n",
       "      <td>2020</td>\n",
       "      <td>63</td>\n",
       "      <td>10</td>\n",
       "      <td>Afghanistan</td>\n",
       "      <td>AF</td>\n",
       "      <td>AFG</td>\n",
       "      <td>3.804176e+07</td>\n",
       "      <td>Asia</td>\n",
       "      <td>7.134266</td>\n",
       "    </tr>\n",
       "    <tr>\n",
       "      <th>4</th>\n",
       "      <td>2020-10-12 00:00:00</td>\n",
       "      <td>10</td>\n",
       "      <td>12</td>\n",
       "      <td>2020</td>\n",
       "      <td>202</td>\n",
       "      <td>16</td>\n",
       "      <td>Afghanistan</td>\n",
       "      <td>AF</td>\n",
       "      <td>AFG</td>\n",
       "      <td>3.804176e+07</td>\n",
       "      <td>Asia</td>\n",
       "      <td>6.968658</td>\n",
       "    </tr>\n",
       "    <tr>\n",
       "      <th>...</th>\n",
       "      <td>...</td>\n",
       "      <td>...</td>\n",
       "      <td>...</td>\n",
       "      <td>...</td>\n",
       "      <td>...</td>\n",
       "      <td>...</td>\n",
       "      <td>...</td>\n",
       "      <td>...</td>\n",
       "      <td>...</td>\n",
       "      <td>...</td>\n",
       "      <td>...</td>\n",
       "      <td>...</td>\n",
       "    </tr>\n",
       "    <tr>\n",
       "      <th>12442</th>\n",
       "      <td>2020-05-01 00:00:00</td>\n",
       "      <td>5</td>\n",
       "      <td>1</td>\n",
       "      <td>2020</td>\n",
       "      <td>15</td>\n",
       "      <td>0</td>\n",
       "      <td>China</td>\n",
       "      <td>CN</td>\n",
       "      <td>CHN</td>\n",
       "      <td>1.433784e+09</td>\n",
       "      <td>Asia</td>\n",
       "      <td>NaN</td>\n",
       "    </tr>\n",
       "    <tr>\n",
       "      <th>12443</th>\n",
       "      <td>2020-04-01 00:00:00</td>\n",
       "      <td>4</td>\n",
       "      <td>1</td>\n",
       "      <td>2020</td>\n",
       "      <td>0</td>\n",
       "      <td>0</td>\n",
       "      <td>China</td>\n",
       "      <td>CN</td>\n",
       "      <td>CHN</td>\n",
       "      <td>1.433784e+09</td>\n",
       "      <td>Asia</td>\n",
       "      <td>NaN</td>\n",
       "    </tr>\n",
       "    <tr>\n",
       "      <th>12444</th>\n",
       "      <td>2020-03-01 00:00:00</td>\n",
       "      <td>3</td>\n",
       "      <td>1</td>\n",
       "      <td>2020</td>\n",
       "      <td>17</td>\n",
       "      <td>0</td>\n",
       "      <td>China</td>\n",
       "      <td>CN</td>\n",
       "      <td>CHN</td>\n",
       "      <td>1.433784e+09</td>\n",
       "      <td>Asia</td>\n",
       "      <td>NaN</td>\n",
       "    </tr>\n",
       "    <tr>\n",
       "      <th>12445</th>\n",
       "      <td>2020-02-01 00:00:00</td>\n",
       "      <td>2</td>\n",
       "      <td>1</td>\n",
       "      <td>2020</td>\n",
       "      <td>0</td>\n",
       "      <td>0</td>\n",
       "      <td>China</td>\n",
       "      <td>CN</td>\n",
       "      <td>CHN</td>\n",
       "      <td>1.433784e+09</td>\n",
       "      <td>Asia</td>\n",
       "      <td>NaN</td>\n",
       "    </tr>\n",
       "    <tr>\n",
       "      <th>12446</th>\n",
       "      <td>2020-01-01 00:00:00</td>\n",
       "      <td>1</td>\n",
       "      <td>1</td>\n",
       "      <td>2020</td>\n",
       "      <td>0</td>\n",
       "      <td>0</td>\n",
       "      <td>China</td>\n",
       "      <td>CN</td>\n",
       "      <td>CHN</td>\n",
       "      <td>1.433784e+09</td>\n",
       "      <td>Asia</td>\n",
       "      <td>NaN</td>\n",
       "    </tr>\n",
       "  </tbody>\n",
       "</table>\n",
       "<p>12447 rows × 12 columns</p>\n",
       "</div>"
      ],
      "text/plain": [
       "                   dateRep  day  month  year  cases  deaths  \\\n",
       "0               14/12/2020   14     12  2020    746       6   \n",
       "1               13/12/2020   13     12  2020    298       9   \n",
       "2      2020-12-12 00:00:00   12     12  2020    113      11   \n",
       "3      2020-11-12 00:00:00   11     12  2020     63      10   \n",
       "4      2020-10-12 00:00:00   10     12  2020    202      16   \n",
       "...                    ...  ...    ...   ...    ...     ...   \n",
       "12442  2020-05-01 00:00:00    5      1  2020     15       0   \n",
       "12443  2020-04-01 00:00:00    4      1  2020      0       0   \n",
       "12444  2020-03-01 00:00:00    3      1  2020     17       0   \n",
       "12445  2020-02-01 00:00:00    2      1  2020      0       0   \n",
       "12446  2020-01-01 00:00:00    1      1  2020      0       0   \n",
       "\n",
       "      countriesAndTerritories geoId countryterritoryCode   popData2019  \\\n",
       "0                 Afghanistan    AF                  AFG  3.804176e+07   \n",
       "1                 Afghanistan    AF                  AFG  3.804176e+07   \n",
       "2                 Afghanistan    AF                  AFG  3.804176e+07   \n",
       "3                 Afghanistan    AF                  AFG  3.804176e+07   \n",
       "4                 Afghanistan    AF                  AFG  3.804176e+07   \n",
       "...                       ...   ...                  ...           ...   \n",
       "12442                   China    CN                  CHN  1.433784e+09   \n",
       "12443                   China    CN                  CHN  1.433784e+09   \n",
       "12444                   China    CN                  CHN  1.433784e+09   \n",
       "12445                   China    CN                  CHN  1.433784e+09   \n",
       "12446                   China    CN                  CHN  1.433784e+09   \n",
       "\n",
       "      continentExp  Cumulative_number_for_14_days_of_COVID-19_cases_per_100000  \n",
       "0             Asia                                           9.013779           \n",
       "1             Asia                                           7.052776           \n",
       "2             Asia                                           6.868768           \n",
       "3             Asia                                           7.134266           \n",
       "4             Asia                                           6.968658           \n",
       "...            ...                                                ...           \n",
       "12442         Asia                                                NaN           \n",
       "12443         Asia                                                NaN           \n",
       "12444         Asia                                                NaN           \n",
       "12445         Asia                                                NaN           \n",
       "12446         Asia                                                NaN           \n",
       "\n",
       "[12447 rows x 12 columns]"
      ]
     },
     "execution_count": 3,
     "metadata": {},
     "output_type": "execute_result"
    }
   ],
   "source": [
    "df = pandas.read_excel('s3://ia241-spring2022-bell/covid_data.xls')\n",
    "df[:12447]"
   ]
  },
  {
   "cell_type": "markdown",
   "id": "e4f84fc1",
   "metadata": {},
   "source": [
    "# What are the peak months for COVID in China?"
   ]
  },
  {
   "cell_type": "code",
   "execution_count": 4,
   "id": "691eea5e",
   "metadata": {},
   "outputs": [],
   "source": [
    "China_Data = df[12100:12449]"
   ]
  },
  {
   "cell_type": "code",
   "execution_count": 5,
   "id": "70897978",
   "metadata": {},
   "outputs": [
    {
     "data": {
      "text/plain": [
       "<AxesSubplot:xlabel='month'>"
      ]
     },
     "execution_count": 5,
     "metadata": {},
     "output_type": "execute_result"
    },
    {
     "data": {
      "image/png": "[encoded data removed]",
      "text/plain": [
       "<Figure size 432x288 with 1 Axes>"
      ]
     },
     "metadata": {
      "needs_background": "light"
     },
     "output_type": "display_data"
    }
   ],
   "source": [
    "China_Data_Plot = China_Data.groupby('month').sum()['cases']\n",
    "China_Data_Plot.plot()"
   ]
  },
  {
   "cell_type": "markdown",
   "id": "e9b38e5f",
   "metadata": {},
   "source": [
    "In these calculations I wanted to show how the number of cases changed across the different months in China as more information came out about the disease and the government got more adament about lockdown procedure. As these measures increased, it is possible to see the dramatic drop in COVID-19 cases."
   ]
  },
  {
   "cell_type": "markdown",
   "id": "5a44487b",
   "metadata": {},
   "source": [
    "# How do deaths and cases track across a year in Russia?"
   ]
  },
  {
   "cell_type": "code",
   "execution_count": 6,
   "id": "85f3b339",
   "metadata": {},
   "outputs": [],
   "source": [
    "Russia_Data = df[46922:47269]"
   ]
  },
  {
   "cell_type": "code",
   "execution_count": 7,
   "id": "5aea8d06",
   "metadata": {},
   "outputs": [
    {
     "data": {
      "text/plain": [
       "<AxesSubplot:xlabel='cases', ylabel='deaths'>"
      ]
     },
     "execution_count": 7,
     "metadata": {},
     "output_type": "execute_result"
    },
    {
     "data": {
      "image/png": "[encoded data removed]",
      "text/plain": [
       "<Figure size 432x288 with 2 Axes>"
      ]
     },
     "metadata": {
      "needs_background": "light"
     },
     "output_type": "display_data"
    }
   ],
   "source": [
    "Russia_Data.plot.scatter(x='cases',y='deaths',c='month')"
   ]
  },
  {
   "cell_type": "markdown",
   "id": "ad18eb1d",
   "metadata": {},
   "source": [
    "in this graph, I wanted to track cases and deaths across another country that was unable to contain the spread of the disease it the same way that China was, and as we move along the graph that it easy to see. "
   ]
  },
  {
   "cell_type": "markdown",
   "id": "b702b2bc",
   "metadata": {},
   "source": [
    "# Comparison of Deaths Across Columbia, Chile. and China"
   ]
  },
  {
   "cell_type": "code",
   "execution_count": 11,
   "id": "b652138a",
   "metadata": {},
   "outputs": [],
   "source": [
    "three_countries_data = df[11815:12727]"
   ]
  },
  {
   "cell_type": "code",
   "execution_count": 24,
   "id": "8204f4a5",
   "metadata": {},
   "outputs": [
    {
     "data": {
      "text/plain": [
       "<AxesSubplot:xlabel='countriesAndTerritories'>"
      ]
     },
     "execution_count": 24,
     "metadata": {},
     "output_type": "execute_result"
    },
    {
     "data": {
      "image/png": "[encoded data removed]",
      "text/plain": [
       "<Figure size 432x288 with 1 Axes>"
      ]
     },
     "metadata": {
      "needs_background": "light"
     },
     "output_type": "display_data"
    }
   ],
   "source": [
    "three_countries_data_plot = three_countries_data.groupby('countriesAndTerritories',).sum()['deaths']\n",
    "three_countries_data_plot.nlargest(10).plot.bar(x='month')"
   ]
  },
  {
   "cell_type": "markdown",
   "id": "23e8c51b",
   "metadata": {},
   "source": [
    "Finally, I wanted to compare the COVID-19 deaths across countries to estimate how effective different approaches to stifiling the disease played out. Columbia was slower to procure COVID 19 vaccinations and it had a very unpredictable lockdown procedure. Chile on the other hand, was one of the first countries to institue a vaccination program and as a result had a much lower death rate. "
   ]
  },
  {
   "cell_type": "markdown",
   "id": "a4ca8695",
   "metadata": {
    "scrolled": true
   },
   "source": [
    "# Conclusion"
   ]
  },
  {
   "cell_type": "markdown",
   "id": "9ba35e02",
   "metadata": {},
   "source": [
    "After examining data visualizations across the board I was able to conclude that the Chinese govenrment instituted harsh regulations, but did manage to keep it's COVID 19 dat down. Unfortunatley, the data that I had access to was outdated and subject to change based on how governments cahnged how they counted their data. If I were to do this over again, I would say to obtain better data, and include more data visulaizations. "
   ]
  },
  {
   "cell_type": "markdown",
   "id": "a29f24dd",
   "metadata": {},
   "source": [
    "# Author Profile"
   ]
  },
  {
   "cell_type": "markdown",
   "id": "4d09117f",
   "metadata": {},
   "source": [
    "Jack Bell is a sophmore in James Madison University's Intelligence Analysis Program, and enjoys reading, watching TV, and briefing decisonmakers. "
   ]
  }
 ],
 "metadata": {
  "kernelspec": {
   "display_name": "conda_python3",
   "language": "python",
   "name": "conda_python3"
  },
  "language_info": {
   "codemirror_mode": {
    "name": "ipython",
    "version": 3
   },
   "file_extension": ".py",
   "mimetype": "text/x-python",
   "name": "python",
   "nbconvert_exporter": "python",
   "pygments_lexer": "ipython3",
   "version": "3.6.13"
  }
 },
 "nbformat": 4,
 "nbformat_minor": 5
}
